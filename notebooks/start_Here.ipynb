{
 "cells": [
  {
   "cell_type": "markdown",
   "id": "db22c4e3",
   "metadata": {},
   "source": [
    "About a month ago I had a dispute about what caused inflation with a superior, who is quite succesfull in the the financial planing world. He challenged my assumptions of inflation which primarly stem from Milton Freidman's propisition that inflation occurs when there is too much money chasing too few goods. The superior countered this view and pointed out there are many more factors post 21st century that affect inflation than money supply. This has continued to bother me, were my textbooks wrong and does inflation behave differently in reality? What varibles even affect inflation? these are all questions I have"
   ]
  },
  {
   "cell_type": "markdown",
   "id": "f8b6b433",
   "metadata": {},
   "source": [
    "Where do you start? First I thought of the Quantity Theory of Money (QTM) \n",
    "$$ MV = PY $$\n",
    "In these tests we will say that the velocity of Money is always constant\n",
    "From there we will take logs\n",
    "$$ \\ln M + \\ln V = \\ln P + \\ln Y $$\n",
    "\n",
    "Difference of logs (growth rates):\n",
    "\n",
    "$$ \\Delta \\ln M + \\Delta \\ln V = \\Delta \\ln P + \\Delta \\ln Y $$\n",
    "\n",
    "Remembering velocity is constant lets isolate inflation(prices):\n",
    "\n",
    "$$ \\Delta P = \\Delta M - \\Delta Y $$"
   ]
  },
  {
   "cell_type": "markdown",
   "id": "c8eb02d9",
   "metadata": {},
   "source": [
    "In theory we have now created an equation to find the price level. I first wanted to discover the relationship between these variables a bit better, so I decided to run a Vector Auto-Regression (VAR). Being a model that I have not used before I did some learning and it was a perfect fit. A VAR is model that describes how multiple time-series varibles interact with eachother. "
   ]
  },
  {
   "cell_type": "markdown",
   "id": "667ab4ef",
   "metadata": {},
   "source": [
    "Where does that take us and where do we want to be? The goal is to see if the \"too much money chasing too few goods\" is the main cause of inflation or are there other factors that contribute to demand-pull inflation? Here is my order of operations.\n",
    "\n",
    "1. Run a VAR on $\\Delta M, \\Delta Y$ and $\\Delta P$ to understand how each varibles effects the other\n",
    "2. if the VAR is successful run an OLS model on the $\\Delta P$ and the difference of $\\Delta M  -  \\Delta Y$ over different periods of time to understand how the relationship has changed. \n",
    "3. Evaluate findings\n",
    "4. Review\n",
    "5. Draw a conclusion\n",
    "\n"
   ]
  }
 ],
 "metadata": {
  "kernelspec": {
   "display_name": "Python 3",
   "language": "python",
   "name": "python3"
  },
  "language_info": {
   "codemirror_mode": {
    "name": "ipython",
    "version": 3
   },
   "file_extension": ".py",
   "mimetype": "text/x-python",
   "name": "python",
   "nbconvert_exporter": "python",
   "pygments_lexer": "ipython3",
   "version": "3.10.4"
  }
 },
 "nbformat": 4,
 "nbformat_minor": 5
}
